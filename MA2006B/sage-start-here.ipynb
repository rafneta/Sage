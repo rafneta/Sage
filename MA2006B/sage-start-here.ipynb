{
 "cells": [
  {
   "cell_type": "markdown",
   "metadata": {},
   "source": [
    "# SageMath: start here!\n",
    "\n",
    "$ \\def\\NN{\\mathbb{N}} $\n",
    "$ \\def\\ZZ{\\mathbb{Z}} $\n",
    "$ \\def\\QQ{\\mathbb{Q}} $\n",
    "$ \\def\\RR{\\mathbb{R}} $\n",
    "$ \\def\\CC{\\mathbb{C}} $"
   ]
  },
  {
   "cell_type": "markdown",
   "metadata": {},
   "source": [
    "## About SageMath and this document\n",
    "\n",
    "[SageMath](https://www.sagemath.org) (Sage for short) is a general\n",
    "purpose computational mathematics system developed by a worldwide\n",
    "community of hundreds of researchers, teachers and engineers. It’s\n",
    "based on the Python programming language and includes GAP, PARI/GP,\n",
    "Singular, and dozens of other specialized libraries.\n",
    "\n",
    "This live document will guide you through the first steps of using\n",
    "Sage, and provide pointers to explore and learn further.\n",
    "\n",
    "In the following, we will be assuming that you are reading this\n",
    "document as a Jupyter notebook (Jupyter is the primary user interface\n",
    "for Sage). If you are reading it instead as a web page, you can click\n",
    "on Run on mybinder.org to get access to the notebook online. If\n",
    "you have Sage already installed on your machine, you may instead\n",
    "download the notebook.\n",
    "\n",
    "\n",
    "<a id='index-0'></a>"
   ]
  },
  {
   "cell_type": "markdown",
   "metadata": {},
   "source": [
    "## Todo\n",
    "\n",
    "- credits on sources of inspiration  \n",
    "- Make sure the following works: If you just want to try out a few\n",
    "  things, you may also just click the Activate button on the\n",
    "  upper right corner to play with the examples.  "
   ]
  },
  {
   "cell_type": "markdown",
   "metadata": {},
   "source": [
    "## Entering, editing, and evaluating input"
   ]
  },
  {
   "cell_type": "markdown",
   "metadata": {},
   "source": [
    "### A first calculation\n",
    "\n",
    "Sage can be used as a pocket calculator: you type in some expression\n",
    "to be calculated, Sage evaluates it, and prints the result; and\n",
    "repeat. This is called the *Read-Eval-Print-Loop*. In the Jupyter\n",
    "notebook, you type the expression in an **input cell**, or **code\n",
    "cell**. This is the rectangle below this paragraph containing $ 1+1 $\n",
    "(if instead you see sage: 1+1, you are reading this document as a\n",
    "web page and won’t be able to play with the examples). Click on the\n",
    "cell to select it, and press shift-enter to evaluate it. You may\n",
    "instead click the play button\n",
    "..  .. image:: media/RunCellIcon.png\n",
    "in the tool bar, or use the Cell menu:"
   ]
  },
  {
   "cell_type": "code",
   "execution_count": null,
   "metadata": {},
   "outputs": [],
   "source": [
    "1 + 1"
   ]
  },
  {
   "cell_type": "markdown",
   "metadata": {},
   "source": [
    "Sage prints out its response in an **output cell** just below the\n",
    "input cell (that’s the 2, so Sage confirms that $ 1+1=2 $).\n",
    "Click again in the cell, replace $ 1+1 $ by $ 2+2 $,\n",
    "and evaluate it. Notice how much quicker it is now? That’s because a\n",
    "Sage process had to be started the first time, and then stayed ready.\n",
    "\n",
    "Congratulations, you have done your first calculations with Sage."
   ]
  },
  {
   "cell_type": "markdown",
   "metadata": {},
   "source": [
    "### Using the Jupyter Notebook\n",
    "\n",
    "Now take some time to explore the Help menu. We specifically\n",
    "recommend taking User Interface Tour, and coming back to\n",
    "Keyboard shortcuts every now and then to get fast at Jupyter.\n",
    "The Jupyter developers also maintain a [tutorial notebook](https://nbviewer.jupyter.org/github/ipython/ipython/blob/3.x/examples/Notebook/Index.ipynb)\n",
    "which you may find useful.\n",
    "\n",
    "For now we just review the basics. Use the menu item Insert ->\n",
    "Insert Cell Below to create a new input cell below this paragraph,\n",
    "then calculate any simple expression of your liking.\n",
    "\n",
    "You can move around and edit any cell by clicking in it. Go back and change\n",
    "your $ 2+2 $ above to $ 3+3 $ and re-evaluate it.\n",
    "\n",
    "You can also edit any **text cell** by double clicking on it. Try it\n",
    "now! The text you see is using the\n",
    "[Markdown](https://jupyter-notebook.readthedocs.io/en/latest/examples/Notebook/Working%20With%20Markdown%20Cells.html)\n",
    "markup language. Do some changes to the text, and evaluate it again to\n",
    "rerender it.\n",
    "Markdown supports a fair amount of basic formatting,\n",
    "such as bold, underline, basic lists, and so forth.\n",
    "Thanks to the TeX rendering engine\n",
    "[MathJax](https://www.mathjax.org/), you may\n",
    "embed mathematical formulae such as $sin(x) - y^3$ just like with LaTeX.\n",
    "It can be fun to type in fairly complicated math, like this:\n",
    "\n",
    "$$\n",
    "\\zeta(s)=\\sum_{n=1}^{\\infty}\\frac{1}{n^s}=\\prod_p \\left(\\frac{1}{1-p^{-s}}\\right)\n",
    "$$\n",
    "\n",
    "If you *mess everything up*, you can use the menu Kernel ->\n",
    "Restart to restart Sage. You can also use the menu File -> Save and\n",
    "Checkpoint to save notebook, and File -> Revert to Checkpoint -> ...\n",
    "to reset to any previously saved version."
   ]
  },
  {
   "cell_type": "markdown",
   "metadata": {},
   "source": [
    "### More interactions\n",
    "\n",
    "We are now done with basic interaction with Sage. Much richer\n",
    "interactions are possible thanks to Jupyter’s *interactive widgets*.\n",
    "That will be the topic for a later tutorial; here is just a teaser for\n",
    "now. Try clicking on the sliders to illustrate multiplication below.\n",
    "Also, you can try changing the slider ranges to something different by\n",
    "editing the input cell (make sure to also change xmax, ymax):"
   ]
  },
  {
   "cell_type": "code",
   "execution_count": null,
   "metadata": {},
   "outputs": [],
   "source": [
    "@interact\n",
    "def f(n=(1 .. 15), m=(1 .. 15)):\n",
    "    print(\"n * m = {} = {}\".format(n * m, factor(n * m)))\n",
    "    P = polygon([(0, 0), (0, n), (m, n), (m, 0)])\n",
    "    P.show(aspect_ratio=1, gridlines='minor', figsize=[3, 3], xmax=14, ymax=14)"
   ]
  },
  {
   "cell_type": "markdown",
   "metadata": {},
   "source": [
    "## A brief tour\n",
    "\n",
    "Here is a very brief tour showcasing the different areas of\n",
    "mathematics covered by Sage:\n",
    "**2D/3D Graphics**, **Categories**, **Basic Rings and Fields**: Integers\n",
    "and Rational Numbers, Real and Complex Numbers, Finite Rings and Fields,\n",
    "Polynomials, Formal Power Series, p-Adic Numbers, Quaternion Algebras,\n",
    "**Linear Algebra**: Matrices and Spaces of Matrices, Vectors and\n",
    "Modules, Tensors on Free Modules of Finite Rank, **Calculus and\n",
    "Analysis**: Symbolic Calculus, Mathematical Constants, Elementary and\n",
    "Special Functions, Asymptotic Expansions, Numerical Optimization,\n",
    "**Probability and Statistics**, Probability , Statistics, Quantitative\n",
    "Finance, **Mathematical Structures**: Sets, Monoids, Groups, Semirings,\n",
    "Rings, Algebras, **Discrete Mathematics** Combinatorics, Graph Theory,\n",
    "Quivers, Matroid Theory, Discrete Dynamics, Coding Theory, Cryptography,\n",
    "Game Theory, Symbolic Logic, SAT solvers, **Geometry and Topology**:\n",
    "Combinatorial and Discrete Geometry, Hyperbolic Geometry, Cell Complexes\n",
    "and their Homology, Differential Forms, Manifolds, Parametrized\n",
    "Surfaces, Knot Theory, **Number Fields and Function Fields**, **Number\n",
    "Theory**: Diophantine approximation, Quadratic Forms, L-Functions,\n",
    "Arithmetic Subgroups of $ SL_2(Z) $, General Hecke Algebras and\n",
    "Hecke Modules, Modular Symbols, Modular Forms, Modular Forms for Hecke\n",
    "Triangle Groups, Modular Abelian Varieties, **Algebraic and Arithmetic\n",
    "Geometry**: Schemes, Plane, Elliptic and Hyperelliptic Curves,\n",
    "**Databases**, **Games**\n",
    "\n",
    "\n",
    "<a id='index-1'></a>"
   ]
  },
  {
   "cell_type": "markdown",
   "metadata": {},
   "source": [
    "## Todo\n",
    "\n",
    "- Insert more striking examples  \n",
    "- Insert Read More links  "
   ]
  },
  {
   "cell_type": "markdown",
   "metadata": {},
   "source": [
    "### Calculus"
   ]
  },
  {
   "cell_type": "code",
   "execution_count": null,
   "metadata": {},
   "outputs": [],
   "source": [
    "%display latex\n",
    "var('x,y')\n",
    "f = (cos(pi/4-x)-tan(x)) / (1-sin(pi/4 + x)); f\n",
    "limit(f, x = pi/4, dir='minus')"
   ]
  },
  {
   "cell_type": "code",
   "execution_count": null,
   "metadata": {},
   "outputs": [],
   "source": [
    "solve([x^2+y^2 == 1, y^2 == x^3 + x + 1], x, y)"
   ]
  },
  {
   "cell_type": "code",
   "execution_count": null,
   "metadata": {},
   "outputs": [],
   "source": [
    "plot3d(sin(pi*sqrt(x^2+y^2)) / sqrt(x^2+y^2), (x,-5,5), (y,-5,5), viewer=\"threejs\")"
   ]
  },
  {
   "cell_type": "code",
   "execution_count": null,
   "metadata": {},
   "outputs": [],
   "source": [
    "contour_plot(y^2 + 1 - x^3 - x, (x,-pi,pi), (y,-pi,pi),\n",
    "             contours=[-8,-4,0,4,8], colorbar=True)"
   ]
  },
  {
   "cell_type": "markdown",
   "metadata": {},
   "source": [
    "### Algebra"
   ]
  },
  {
   "cell_type": "code",
   "execution_count": null,
   "metadata": {},
   "outputs": [],
   "source": [
    "factor(x^100 - 1)"
   ]
  },
  {
   "cell_type": "code",
   "execution_count": null,
   "metadata": {},
   "outputs": [],
   "source": [
    "p = 54*x^4+36*x^3-102*x^2-72*x-12\n",
    "p.factor()"
   ]
  },
  {
   "cell_type": "code",
   "execution_count": null,
   "metadata": {},
   "outputs": [],
   "source": [
    "for K in [ZZ, QQ, ComplexField(16), QQ[sqrt(2)], GF(5)]:\n",
    "    print(K, \":\"); print(K['x'](p).factor())"
   ]
  },
  {
   "cell_type": "code",
   "execution_count": null,
   "metadata": {},
   "outputs": [],
   "source": [
    "ZZ.category()"
   ]
  },
  {
   "cell_type": "code",
   "execution_count": null,
   "metadata": {},
   "outputs": [],
   "source": [
    "sorted( ZZ.category().axioms() )"
   ]
  },
  {
   "cell_type": "markdown",
   "metadata": {},
   "source": [
    "### Linear algebra"
   ]
  },
  {
   "cell_type": "code",
   "execution_count": null,
   "metadata": {},
   "outputs": [],
   "source": [
    "A = matrix(GF(7), 4, [5,5,4,3,0,3,3,4,0,1,5,4,6,0,6,3]); A"
   ]
  },
  {
   "cell_type": "code",
   "execution_count": null,
   "metadata": {},
   "outputs": [],
   "source": [
    "P = A.characteristic_polynomial(); P"
   ]
  },
  {
   "cell_type": "code",
   "execution_count": null,
   "metadata": {},
   "outputs": [],
   "source": [
    "P(A)"
   ]
  },
  {
   "cell_type": "code",
   "execution_count": null,
   "metadata": {},
   "outputs": [],
   "source": [
    "A.eigenspaces_left()"
   ]
  },
  {
   "cell_type": "markdown",
   "metadata": {},
   "source": [
    "Computing the rank of a large sparse matrix:"
   ]
  },
  {
   "cell_type": "code",
   "execution_count": null,
   "metadata": {},
   "outputs": [],
   "source": [
    "M = random_matrix(GF(7), 10000, sparse=True, density=3/10000)\n",
    "M.rank()"
   ]
  },
  {
   "cell_type": "markdown",
   "metadata": {},
   "source": [
    "### Geometry"
   ]
  },
  {
   "cell_type": "code",
   "execution_count": null,
   "metadata": {},
   "outputs": [],
   "source": [
    "polytopes.truncated_icosidodecahedron().plot(viewer=\"threejs\")"
   ]
  },
  {
   "cell_type": "markdown",
   "metadata": {},
   "source": [
    "### Programming and plotting"
   ]
  },
  {
   "cell_type": "code",
   "execution_count": null,
   "metadata": {},
   "outputs": [],
   "source": [
    "n, l, x, y = 10000, 1, 0, 0\n",
    "p = [[0, 0]]\n",
    "for k in range(n):\n",
    "    theta = (2 * pi * random()).n(digits=5)\n",
    "    x, y = x + l * cos(theta), y + l * sin(theta)\n",
    "    p.append([x, y])\n",
    "g = line(p, thickness=.4) + line([p[n], [0, 0]], color='red', thickness=2)\n",
    "g.show(aspect_ratio=1)"
   ]
  },
  {
   "cell_type": "markdown",
   "metadata": {},
   "source": [
    "### Interactive plots"
   ]
  },
  {
   "cell_type": "code",
   "execution_count": null,
   "metadata": {},
   "outputs": [],
   "source": [
    "var('x')\n",
    "@interact\n",
    "def g(f=x*sin(1/x),\n",
    "      c=slider(-1, 1, .01, default=-.5),\n",
    "      n=(1..30),\n",
    "      xinterval=range_slider(-1, 1, .1, default=(-8,8), label=\"x-interval\"),\n",
    "      yinterval=range_slider(-1, 1, .1, default=(-3,3), label=\"y-interval\")):\n",
    "    x0 = c\n",
    "    degree = n\n",
    "    xmin,xmax = xinterval\n",
    "    ymin,ymax = yinterval\n",
    "    p   = plot(f, xmin, xmax, thickness=4)\n",
    "    dot = point((x0,f(x=x0)),pointsize=80,rgbcolor=(1,0,0))\n",
    "    ft = f.taylor(x,x0,degree)\n",
    "    pt = plot(ft, xmin, xmax, color='red', thickness=2, fill=f)\n",
    "    show(dot + p + pt, ymin=ymin, ymax=ymax, xmin=xmin, xmax=xmax)\n",
    "    html('$f(x)\\;=\\;%s$'%latex(f))\n",
    "    html('$P_{%s}(x)\\;=\\;%s+R_{%s}(x)$'%(degree,latex(ft),degree))"
   ]
  },
  {
   "cell_type": "markdown",
   "metadata": {},
   "source": [
    "### Graph Theory\n",
    "\n",
    "Coloring graphs:"
   ]
  },
  {
   "cell_type": "code",
   "execution_count": null,
   "metadata": {},
   "outputs": [],
   "source": [
    "g = graphs.PetersenGraph(); g\n",
    "g.plot(partition=g.coloring())"
   ]
  },
  {
   "cell_type": "markdown",
   "metadata": {},
   "source": [
    "### Combinatorics\n",
    "\n",
    "Fast counting:"
   ]
  },
  {
   "cell_type": "code",
   "execution_count": null,
   "metadata": {},
   "outputs": [],
   "source": [
    "Partitions(100000).cardinality()"
   ]
  },
  {
   "cell_type": "markdown",
   "metadata": {},
   "source": [
    "Playing poker:"
   ]
  },
  {
   "cell_type": "code",
   "execution_count": null,
   "metadata": {},
   "outputs": [],
   "source": [
    "Suits   = Set([\"Hearts\", \"Diamonds\", \"Spades\", \"Clubs\"])\n",
    "Values  = Set([2, 3, 4, 5, 6, 7, 8, 9, 10, \"Jack\", \"Queen\", \"King\", \"Ace\"])\n",
    "Cards   = cartesian_product([Values, Suits])\n",
    "Hands   = Subsets(Cards, 5)\n",
    "Hands.random_element()"
   ]
  },
  {
   "cell_type": "code",
   "execution_count": null,
   "metadata": {},
   "outputs": [],
   "source": [
    "Hands.cardinality()"
   ]
  },
  {
   "cell_type": "markdown",
   "metadata": {},
   "source": [
    "### Algebraic Combinatorics\n",
    "\n",
    "Drawing an affine root systems:"
   ]
  },
  {
   "cell_type": "code",
   "execution_count": null,
   "metadata": {},
   "outputs": [],
   "source": [
    "L = RootSystem([\"G\", 2, 1]).ambient_space()\n",
    "p = L.plot(affine=False, level=1)\n",
    "p.show(aspect_ratio=[1, 1, 2], frame=False)"
   ]
  },
  {
   "cell_type": "markdown",
   "metadata": {},
   "source": [
    "### Number Theory"
   ]
  },
  {
   "cell_type": "code",
   "execution_count": null,
   "metadata": {},
   "outputs": [],
   "source": [
    "E = EllipticCurve('389a')\n",
    "plot(E, thickness=3)"
   ]
  },
  {
   "cell_type": "markdown",
   "metadata": {},
   "source": [
    "### Games\n",
    "\n",
    "Sudoku solver:"
   ]
  },
  {
   "cell_type": "code",
   "execution_count": null,
   "metadata": {},
   "outputs": [],
   "source": [
    "S = Sudoku('5...8..49...5...3..673....115..........2.8..........187....415..3...2...49..5...3'); S"
   ]
  },
  {
   "cell_type": "code",
   "execution_count": null,
   "metadata": {},
   "outputs": [],
   "source": [
    "list(S.solve())"
   ]
  },
  {
   "cell_type": "markdown",
   "metadata": {},
   "source": [
    "## Help system\n",
    "\n",
    "We review the three main ways to get help in Sage:\n",
    "\n",
    "- navigating through the documentation  \n",
    "- tab-completion,  \n",
    "- contextual help.  "
   ]
  },
  {
   "cell_type": "markdown",
   "metadata": {},
   "source": [
    "### Navigating through the documentation\n",
    "\n",
    "The Help menu gives access to the HTML documentation for Sage\n",
    "(and other pieces of software). This includes the Sage tutorial,\n",
    "the Sage thematic tutorials, and the Sage reference manual.\n",
    "This documentation is also available online from Sage’s web site\n",
    "[https://www.sagemath.org](https://www.sagemath.org) ."
   ]
  },
  {
   "cell_type": "markdown",
   "metadata": {},
   "source": [
    "### Completion and contextual documentation\n",
    "\n",
    "Start typing something and press the Tab key. The interface tries to\n",
    "complete it with a command name. If there is more than one completion, then\n",
    "they are all presented to you. Remember that Sage is case sensitive, i.e. it\n",
    "differentiates upper case from lower case. Hence the Tab completion of\n",
    "klein won’t show you the KleinFourGroup command that builds the group\n",
    "$ \\ZZ/2 \\times \\ZZ/2 $ as a permutation group. Try pressing the Tab\n",
    "key in the following cells:\n",
    "\n",
    "skip"
   ]
  },
  {
   "cell_type": "code",
   "execution_count": null,
   "metadata": {},
   "outputs": [],
   "source": [
    "klein"
   ]
  },
  {
   "cell_type": "code",
   "execution_count": null,
   "metadata": {},
   "outputs": [],
   "source": [
    "Klein"
   ]
  },
  {
   "cell_type": "markdown",
   "metadata": {},
   "source": [
    "To see documentation and examples for a command, type a question mark\n",
    "? at the end of the command name and evaluate the cell:\n",
    "\n",
    "skip"
   ]
  },
  {
   "cell_type": "code",
   "execution_count": null,
   "metadata": {},
   "outputs": [],
   "source": [
    "KleinFourGroup?"
   ]
  },
  {
   "cell_type": "code",
   "execution_count": null,
   "metadata": {},
   "outputs": [],
   "source": []
  },
  {
   "cell_type": "markdown",
   "metadata": {},
   "source": [
    "#### Exercise A\n",
    "\n",
    "What is the largest prime factor of $ 600851475143 $?\n",
    "\n",
    "skip"
   ]
  },
  {
   "cell_type": "code",
   "execution_count": null,
   "metadata": {},
   "outputs": [],
   "source": [
    "factor?"
   ]
  },
  {
   "cell_type": "code",
   "execution_count": null,
   "metadata": {},
   "outputs": [],
   "source": []
  },
  {
   "cell_type": "markdown",
   "metadata": {},
   "source": [
    "### Digression: assignments and methods\n",
    "\n",
    "In the above manipulations we did not store any data for\n",
    "later use. This can be done in Sage with the = symbol as in:"
   ]
  },
  {
   "cell_type": "code",
   "execution_count": null,
   "metadata": {},
   "outputs": [],
   "source": [
    "a = 3\n",
    "b = 2\n",
    "a + b"
   ]
  },
  {
   "cell_type": "markdown",
   "metadata": {},
   "source": [
    "This can be understood as Sage evaluating the expression to the right\n",
    "of the = sign and creating the appropriate object, and then\n",
    "associating that object with a label, given by the left-hand side (see\n",
    "the foreword of [Tutorial: Objects and Classes in Python and Sage](http://doc.sagemath.org/html/en/thematic_tutorials/tutorial-objects-and-classes.html#tutorial-objects-and-classes) for\n",
    "details). Multiple assignments can be done at once:"
   ]
  },
  {
   "cell_type": "code",
   "execution_count": null,
   "metadata": {},
   "outputs": [],
   "source": [
    "a, b = 2, 3\n",
    "a"
   ]
  },
  {
   "cell_type": "code",
   "execution_count": null,
   "metadata": {},
   "outputs": [],
   "source": [
    "b"
   ]
  },
  {
   "cell_type": "markdown",
   "metadata": {},
   "source": [
    "This allows us to swap the values of two variables directly:"
   ]
  },
  {
   "cell_type": "code",
   "execution_count": null,
   "metadata": {},
   "outputs": [],
   "source": [
    "a, b = 2, 3\n",
    "a, b = b, a\n",
    "a, b"
   ]
  },
  {
   "cell_type": "markdown",
   "metadata": {},
   "source": [
    "We can also assign a common value to several variables simultaneously:"
   ]
  },
  {
   "cell_type": "code",
   "execution_count": null,
   "metadata": {},
   "outputs": [],
   "source": [
    "c = d = 1\n",
    "c, d"
   ]
  },
  {
   "cell_type": "code",
   "execution_count": null,
   "metadata": {},
   "outputs": [],
   "source": [
    "d = 2\n",
    "c, d"
   ]
  },
  {
   "cell_type": "markdown",
   "metadata": {},
   "source": [
    "Note that when we use the word *variable* in the computer-science sense we\n",
    "mean “a label attached to some data stored by Sage”. Once an object is\n",
    "created, some *methods* apply to it. This means *functions* but instead of\n",
    "writing **f(my_object)** you write **my_object.f()**:"
   ]
  },
  {
   "cell_type": "code",
   "execution_count": null,
   "metadata": {},
   "outputs": [],
   "source": [
    "p = 17\n",
    "p.is_prime()"
   ]
  },
  {
   "cell_type": "markdown",
   "metadata": {},
   "source": [
    "See [Tutorial: Objects and Classes in Python and Sage](http://doc.sagemath.org/html/en/thematic_tutorials/tutorial-objects-and-classes.html#tutorial-objects-and-classes) for details."
   ]
  },
  {
   "cell_type": "markdown",
   "metadata": {},
   "source": [
    "### Method discovery with tab-completion\n",
    "\n",
    "\n",
    "<a id='index-2'></a>"
   ]
  },
  {
   "cell_type": "markdown",
   "metadata": {},
   "source": [
    "### Todo\n",
    "\n",
    "Replace the examples below by less specialized ones\n",
    "\n",
    "To know all methods of an object you can once more use tab-completion.\n",
    "Write the name of the object followed by a dot and then press Tab:\n",
    "\n",
    "skip"
   ]
  },
  {
   "cell_type": "code",
   "execution_count": null,
   "metadata": {},
   "outputs": [],
   "source": [
    "a."
   ]
  },
  {
   "cell_type": "markdown",
   "metadata": {},
   "source": [
    "#### Exercise B\n",
    "\n",
    "Create the permutation 51324 and assign it to the variable p.\n",
    "\n",
    "skip"
   ]
  },
  {
   "cell_type": "code",
   "execution_count": null,
   "metadata": {},
   "outputs": [],
   "source": [
    "Permutation?"
   ]
  },
  {
   "cell_type": "code",
   "execution_count": null,
   "metadata": {},
   "outputs": [],
   "source": []
  },
  {
   "cell_type": "markdown",
   "metadata": {},
   "source": [
    "What is the inverse of p?\n",
    "\n",
    "skip"
   ]
  },
  {
   "cell_type": "code",
   "execution_count": null,
   "metadata": {},
   "outputs": [],
   "source": [
    "p.inv"
   ]
  },
  {
   "cell_type": "code",
   "execution_count": null,
   "metadata": {},
   "outputs": [],
   "source": []
  },
  {
   "cell_type": "markdown",
   "metadata": {},
   "source": [
    "Does p have the pattern 123? What about 1234? And 312? (even if you don’t\n",
    "know what a pattern is, you should be able to find a command that does this).\n",
    "\n",
    "skip"
   ]
  },
  {
   "cell_type": "code",
   "execution_count": null,
   "metadata": {},
   "outputs": [],
   "source": [
    "p.pat"
   ]
  },
  {
   "cell_type": "code",
   "execution_count": null,
   "metadata": {},
   "outputs": [],
   "source": []
  },
  {
   "cell_type": "markdown",
   "metadata": {},
   "source": [
    "## Exercises"
   ]
  },
  {
   "cell_type": "markdown",
   "metadata": {},
   "source": [
    "### Linear algebra"
   ]
  },
  {
   "cell_type": "markdown",
   "metadata": {},
   "source": [
    "#### Exercise C\n",
    "\n",
    "Use the matrix() command to create the following matrix.\n",
    "\n",
    "$$\n",
    "M = \\left(\\begin{array}{rrrr}\n",
    "10 & 4 & 1 & 1 \\\\\n",
    "4 & 6 & 5 & 1 \\\\\n",
    "1 & 5 & 6 & 4 \\\\\n",
    "1 & 1 & 4 & 10\n",
    "\\end{array}\\right)\n",
    "$$\n",
    "\n",
    "skip"
   ]
  },
  {
   "cell_type": "code",
   "execution_count": null,
   "metadata": {},
   "outputs": [],
   "source": [
    "matrix?"
   ]
  },
  {
   "cell_type": "code",
   "execution_count": null,
   "metadata": {},
   "outputs": [],
   "source": []
  },
  {
   "cell_type": "markdown",
   "metadata": {},
   "source": [
    "Then, using methods of the matrix,\n",
    "\n",
    "1. Compute the determinant of the matrix.  \n",
    "1. Compute the echelon form of the matrix.  \n",
    "1. Compute the eigenvalues of the matrix.  \n",
    "1. Compute the kernel of the matrix.  \n",
    "1. Compute the LLL decomposition of the matrix (and lookup the\n",
    "   documentation for what LLL is if needed!)  "
   ]
  },
  {
   "cell_type": "code",
   "execution_count": null,
   "metadata": {},
   "outputs": [],
   "source": []
  },
  {
   "cell_type": "code",
   "execution_count": null,
   "metadata": {},
   "outputs": [],
   "source": []
  },
  {
   "cell_type": "markdown",
   "metadata": {},
   "source": [
    "Now that you know how to access the different methods of matrices,\n",
    "\n",
    "1. Create the vector $ v = (1, -1, -1, 1) $.  \n",
    "1. Compute the two products: $ M \\cdot v $ and $ v \\cdot M $. What mathematically\n",
    "   borderline operation is Sage doing implicitly?  \n",
    "\n",
    "\n",
    "skip"
   ]
  },
  {
   "cell_type": "code",
   "execution_count": null,
   "metadata": {},
   "outputs": [],
   "source": [
    "vector?"
   ]
  },
  {
   "cell_type": "code",
   "execution_count": null,
   "metadata": {},
   "outputs": [],
   "source": []
  },
  {
   "cell_type": "markdown",
   "metadata": {},
   "source": [
    "Vectors in Sage can be used as row vectors or column vectors.\n",
    "A method such as eigenspaces might not\n",
    "return what you expect, so it is best to specify eigenspaces_left or\n",
    "eigenspaces_right instead. Same thing for kernel (left_kernel or\n",
    "right_kernel), and so on."
   ]
  },
  {
   "cell_type": "markdown",
   "metadata": {},
   "source": [
    "### Plotting\n",
    "\n",
    "The plot() command allows you to draw plots of functions. Recall\n",
    "that you can access the documentation by pressing the Tab key\n",
    "after writing plot? in a cell:\n",
    "\n",
    "skip"
   ]
  },
  {
   "cell_type": "code",
   "execution_count": null,
   "metadata": {},
   "outputs": [],
   "source": [
    "plot?"
   ]
  },
  {
   "cell_type": "code",
   "execution_count": null,
   "metadata": {},
   "outputs": [],
   "source": []
  },
  {
   "cell_type": "markdown",
   "metadata": {},
   "source": [
    "Here is a simple example:"
   ]
  },
  {
   "cell_type": "code",
   "execution_count": null,
   "metadata": {},
   "outputs": [],
   "source": [
    "var('x')   # make sure x is a symbolic variable"
   ]
  },
  {
   "cell_type": "code",
   "execution_count": null,
   "metadata": {},
   "outputs": [],
   "source": [
    "plot(sin(x^2), (x, 0, 10))"
   ]
  },
  {
   "cell_type": "markdown",
   "metadata": {},
   "source": [
    "Here is a more complicated plot. Try to change every single input to the plot\n",
    "command in some way, evaluating to see what happens:"
   ]
  },
  {
   "cell_type": "code",
   "execution_count": null,
   "metadata": {},
   "outputs": [],
   "source": [
    "P = plot(sin(x^2), (x, -2, 2), rgbcolor=(0.8, 0, 0.2), thickness=3, linestyle='--', fill='axis')\n",
    "show(P, gridlines=True)"
   ]
  },
  {
   "cell_type": "markdown",
   "metadata": {},
   "source": [
    "Above we used the show() command to show a plot after it was created. You can\n",
    "also use P.show instead:"
   ]
  },
  {
   "cell_type": "code",
   "execution_count": null,
   "metadata": {},
   "outputs": [],
   "source": [
    "P.show(gridlines=True)"
   ]
  },
  {
   "cell_type": "markdown",
   "metadata": {},
   "source": [
    "Try putting the cursor right after P.show( and pressing Tab to get a list of\n",
    "the options for how you can change the values of the given inputs.\n",
    "\n",
    "skip"
   ]
  },
  {
   "cell_type": "code",
   "execution_count": null,
   "metadata": {},
   "outputs": [],
   "source": [
    "P.show("
   ]
  },
  {
   "cell_type": "markdown",
   "metadata": {},
   "source": [
    "Plotting multiple functions at once is as easy as adding the plots together:"
   ]
  },
  {
   "cell_type": "code",
   "execution_count": null,
   "metadata": {},
   "outputs": [],
   "source": [
    "P1 = plot(sin(x), (x, 0, 2*pi))\n",
    "P2 = plot(cos(x), (x, 0, 2*pi), rgbcolor='red')\n",
    "P1 + P2"
   ]
  },
  {
   "cell_type": "markdown",
   "metadata": {},
   "source": [
    "### Symbolic Expressions\n",
    "\n",
    "Here is an example of a symbolic function:"
   ]
  },
  {
   "cell_type": "code",
   "execution_count": null,
   "metadata": {},
   "outputs": [],
   "source": [
    "f(x) = x^4 - 8*x^2 - 3*x + 2\n",
    "f(x)"
   ]
  },
  {
   "cell_type": "code",
   "execution_count": null,
   "metadata": {},
   "outputs": [],
   "source": [
    "f(-3)"
   ]
  },
  {
   "cell_type": "markdown",
   "metadata": {},
   "source": [
    "This is an example of a function in the *mathematical* variable $ x $. When Sage\n",
    "starts, it defines the symbol $ x $ to be a mathematical variable. If you want\n",
    "to use other symbols for variables, you must define them first:"
   ]
  },
  {
   "cell_type": "code",
   "execution_count": null,
   "metadata": {},
   "outputs": [],
   "source": [
    "x^2"
   ]
  },
  {
   "cell_type": "code",
   "execution_count": null,
   "metadata": {},
   "outputs": [],
   "source": [
    "u + v"
   ]
  },
  {
   "cell_type": "code",
   "execution_count": null,
   "metadata": {},
   "outputs": [],
   "source": [
    "var('u v')"
   ]
  },
  {
   "cell_type": "code",
   "execution_count": null,
   "metadata": {},
   "outputs": [],
   "source": [
    "u + v"
   ]
  },
  {
   "cell_type": "markdown",
   "metadata": {},
   "source": [
    "Still, it is possible to define symbolic functions without first\n",
    "defining their variables:"
   ]
  },
  {
   "cell_type": "code",
   "execution_count": null,
   "metadata": {},
   "outputs": [],
   "source": [
    "f(w) = w^2\n",
    "f(3)"
   ]
  },
  {
   "cell_type": "markdown",
   "metadata": {},
   "source": [
    "In this case those variables are defined implicitly:"
   ]
  },
  {
   "cell_type": "code",
   "execution_count": null,
   "metadata": {},
   "outputs": [],
   "source": [
    "w"
   ]
  },
  {
   "cell_type": "markdown",
   "metadata": {},
   "source": [
    "#### Exercise D\n",
    "\n",
    "Define the symbolic function $ f(x) = x \\sin(x^2) $. Plot $ f $ on the\n",
    "domain $ [-3, 3] $ and color it red. Use the find_root() method to\n",
    "numerically approximate the root of $ f $ on the interval $ [1, 2] $:"
   ]
  },
  {
   "cell_type": "code",
   "execution_count": null,
   "metadata": {},
   "outputs": [],
   "source": []
  },
  {
   "cell_type": "markdown",
   "metadata": {},
   "source": [
    "Compute the tangent line to $ f $ at $ x = 1 $:"
   ]
  },
  {
   "cell_type": "code",
   "execution_count": null,
   "metadata": {},
   "outputs": [],
   "source": []
  },
  {
   "cell_type": "markdown",
   "metadata": {},
   "source": [
    "Plot $ f $ and the tangent line to $ f $ at $ x = 1 $ in one image:"
   ]
  },
  {
   "cell_type": "code",
   "execution_count": null,
   "metadata": {},
   "outputs": [],
   "source": []
  },
  {
   "cell_type": "markdown",
   "metadata": {},
   "source": [
    "#### Exercise E (Advanced)\n",
    "\n",
    "\n",
    "    Solve the following equation for :$ y $\n",
    "\n",
    "$$\n",
    "y = 1 + x y^2\n",
    "$$\n",
    "\n",
    "There are two solutions, take the one for which $ \\lim_{x\\to0} y(x) = 1 $.\n",
    "(Don’t forget to create the variables $ x $ and $ y $!)."
   ]
  },
  {
   "cell_type": "code",
   "execution_count": null,
   "metadata": {},
   "outputs": [],
   "source": []
  },
  {
   "cell_type": "markdown",
   "metadata": {},
   "source": [
    "Expand $ y $ as a truncated Taylor series around $ 0 $ containing\n",
    "$ n = 10 $ terms."
   ]
  },
  {
   "cell_type": "code",
   "execution_count": null,
   "metadata": {},
   "outputs": [],
   "source": []
  },
  {
   "cell_type": "markdown",
   "metadata": {},
   "source": [
    "Do you recognize the coefficients of the Taylor series expansion? You might\n",
    "want to use the [On-Line Encyclopedia of Integer Sequences](#On-Line-Encyclopedia-of-Integer-Sequences), or better yet, Sage’s class OEIS which\n",
    "queries the encyclopedia:\n",
    "\n",
    "skip"
   ]
  },
  {
   "cell_type": "code",
   "execution_count": null,
   "metadata": {},
   "outputs": [],
   "source": [
    "oeis?"
   ]
  },
  {
   "cell_type": "code",
   "execution_count": null,
   "metadata": {},
   "outputs": [],
   "source": []
  },
  {
   "cell_type": "markdown",
   "metadata": {},
   "source": [
    "Congratulations for completing your first Sage tutorial!"
   ]
  },
  {
   "cell_type": "markdown",
   "metadata": {},
   "source": [
    "## Exploring further"
   ]
  },
  {
   "cell_type": "markdown",
   "metadata": {},
   "source": [
    "### Accessing Sage\n",
    "\n",
    "- The [Sage cell service](sagecell.sagemath.org) lets you evaluate\n",
    "  individual Sage commands.  \n",
    "- In general, Sage computations can be embedded in any web page using\n",
    "  [Thebelab](https://sage-package.readthedocs.io/en/latest/sage_package/thebe.html)\n",
    "  or the [Sage-cell server](https://sagecell.sagemath.org/).  \n",
    "- [Binder](https://mybinder.org) is a service that lets you run\n",
    "Jupyter online on top of an arbitrary software stack. Sessions are\n",
    "free, anonymous, and temporary. You can use one of the existing\n",
    "repositories, or create your own.  \n",
    "\n",
    "<a id='index-3'></a>"
   ]
  },
  {
   "cell_type": "markdown",
   "metadata": {},
   "source": [
    "### Todo\n",
    "\n",
    "add links about both  \n",
    "- [Cocalc](https://cocalc.com) (Collaborative Calculation in the Cloud) is an online\n",
    "  service that gives access to a wealth of computational systems,\n",
    "  including Sage, with extra goodies for teaching. It’s free for basic\n",
    "  usage.  \n",
    "- [JupyterHub](https://jupyter.org/hub) lets you (or your\n",
    "  institution or …) deploy a multi-user Jupyter service.  \n",
    "- The [Sage Debian Live](https://sagedebianlive.metelu.net/) USB key\n",
    "  let’s you run Linux with Sage and many other goodies on your\n",
    "  computer without having to install them.  \n",
    "- Sage can be\n",
    "  [installed on most major operating systems](https://doc.sagemath.org/html/en/installation/)\n",
    "  (Linux, macOS, Windows), through usual package managers or installers,\n",
    "  or by compiling from source.  "
   ]
  },
  {
   "cell_type": "markdown",
   "metadata": {},
   "source": [
    "### Ways to use Sage\n",
    "\n",
    "There are many ways beyond the Jupyter Notebook to use Sage:\n",
    "interactive command line, program scripts, …\n",
    "See the [Sage tutorial](https://doc.sagemath.org/html/en/tutorial/introduction.html#ways-to-use-sage).\n",
    "\n",
    "Sage used to have its own legacy notebook system, which has been\n",
    "phased out in favor of Jupyter. If you have old notebooks, here is\n",
    "[how to migrate them](https://doc.sagemath.org/html/en/prep/Logging-On.html#the-export-screen-and-jupyter-notebook)."
   ]
  },
  {
   "cell_type": "markdown",
   "metadata": {},
   "source": [
    "### Resources\n",
    "\n",
    "- Sage’s web page: [https://www.sagemath.org](https://www.sagemath.org)  \n",
    "- Ask Sage: [https://ask.sagemath.org](https://ask.sagemath.org)  \n",
    "- Bug Tracker: [https://trac.sagemath.org](https://trac.sagemath.org)  \n",
    "- The open book [Computational Mathematics with Sage](http://sagebook.gforge.inria.fr/english.html)\n",
    "  (originally written in [French](http://sagebook.gforge.inria.fr/); also translated in [German](http://www.loria.fr/~zimmerma/sagebook/CalculDeutsch.pdf/))  \n",
    "- :ref:`Sage's main tutorial <tutorial>`_  \n",
    "- [Sage’s official thematic tutorials](https://doc.sagemath.org/html/en/thematic_tutorials/index.html)  \n",
    "- [More Sage tutorials](https://more-sagemath-tutorials.readthedocs.io/)  \n",
    "- [Sage’s quick reference cards](https://wiki.sagemath.org/quickref)  "
   ]
  }
 ],
 "metadata": {
  "kernelspec": {
   "display_name": "SageMath 8.5.beta6",
   "language": "",
   "name": "sagemath"
  },
  "language_info": {
   "codemirror_mode": {
    "name": "ipython",
    "version": 2
   },
   "file_extension": ".py",
   "mimetype": "text/x-python",
   "name": "python",
   "nbconvert_exporter": "python",
   "pygments_lexer": "ipython2",
   "version": "2.7.15"
  }
 },
 "nbformat": 4,
 "nbformat_minor": 2
}
